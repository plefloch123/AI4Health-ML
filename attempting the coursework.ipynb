{
 "cells": [
  {
   "cell_type": "code",
   "execution_count": 4,
   "id": "862cf89f",
   "metadata": {},
   "outputs": [],
   "source": [
    "import numpy as np\n",
    "import matplotlib.pyplot as plt"
   ]
  },
  {
   "cell_type": "markdown",
   "id": "9e8cbbdc",
   "metadata": {},
   "source": [
    "# Step 1 - Loading in the Data"
   ]
  },
  {
   "cell_type": "code",
   "execution_count": 5,
   "id": "bcc2b494",
   "metadata": {},
   "outputs": [],
   "source": [
    "#Import data using np.loadtxt\n",
    "clean_data = np.loadtxt('wifi_db/clean_dataset.txt')\n",
    "noisy_data = np.loadtxt('wifi_db/noisy_dataset.txt')"
   ]
  },
  {
   "cell_type": "code",
   "execution_count": 6,
   "id": "c6afd3d7",
   "metadata": {},
   "outputs": [
    {
     "name": "stdout",
     "output_type": "stream",
     "text": [
      "[[-64. -56. -61. ... -82. -81.   1.]\n",
      " [-68. -57. -61. ... -85. -85.   1.]\n",
      " [-63. -60. -60. ... -85. -84.   1.]\n",
      " ...\n",
      " [-62. -59. -46. ... -87. -88.   4.]\n",
      " [-62. -58. -52. ... -90. -85.   4.]\n",
      " [-59. -50. -45. ... -88. -87.   4.]]\n",
      "length: 2000\n",
      "size: 16000\n",
      "shape: (2000, 8)\n"
     ]
    }
   ],
   "source": [
    "#Explore clean data\n",
    "print(clean_data)\n",
    "print('length:', len(clean_data))\n",
    "print('size:', clean_data.size)\n",
    "print('shape:', clean_data.shape)"
   ]
  },
  {
   "cell_type": "code",
   "execution_count": 7,
   "id": "3a4c9632",
   "metadata": {},
   "outputs": [
    {
     "name": "stdout",
     "output_type": "stream",
     "text": [
      "[[-59. -53. -51. ... -79. -87.   4.]\n",
      " [-66. -53. -59. ... -81. -79.   1.]\n",
      " [-41. -57. -63. ... -66. -65.   2.]\n",
      " ...\n",
      " [-57. -54. -56. ... -79. -82.   1.]\n",
      " [-56. -52. -50. ... -85. -88.   3.]\n",
      " [-46. -54. -47. ... -80. -73.   3.]]\n",
      "length: 2000\n",
      "size: 16000\n",
      "shape: (2000, 8)\n"
     ]
    }
   ],
   "source": [
    "#Explore noisy data\n",
    "print(noisy_data)\n",
    "print('length:', len(noisy_data))\n",
    "print('size:', noisy_data.size)\n",
    "print('shape:', noisy_data.shape)"
   ]
  },
  {
   "cell_type": "markdown",
   "id": "54093821",
   "metadata": {},
   "source": [
    "# Step 2 - Creating Decision trees"
   ]
  },
  {
   "cell_type": "code",
   "execution_count": 8,
   "id": "171e9ec0",
   "metadata": {},
   "outputs": [],
   "source": [
    "#Function to calculate information entropy - H(x)\n",
    "def entropy(dataset):\n",
    "    classes, counts = np.unique(dataset[:, -1], return_counts=True) #sorts y, and count number of each item in y\n",
    "    probabilities = counts / len(classes) \n",
    "    return -np.sum(probabilities * np.log2(probabilities))\n",
    "\n",
    "#Function to calculate information gain - IG\n",
    "def information_gain(dataset, split_attribute, split_value):\n",
    "    left_split = dataset[dataset[:, split_attribute] <= split_value]\n",
    "    right_split = dataset[dataset[:, split_attribute] > split_value]\n",
    "    p_left = len(left_split)/len(dataset)\n",
    "    p_right = len(right_split)/len(dataset)\n",
    "    gain = entropy(dataset) - (p_left * entropy(left_split) + p_right * entropy(right_split))\n",
    "    return gain"
   ]
  },
  {
   "cell_type": "code",
   "execution_count": 26,
   "id": "a9e55879",
   "metadata": {},
   "outputs": [],
   "source": [
    "def find_split(dataset):\n",
    "    best_gain = 0\n",
    "    best_attribute = None\n",
    "    best_value = None\n",
    "    \n",
    "    n_features = dataset.shape[1] - 1  # Last column is the label\n",
    "    for attribute in range(n_features):\n",
    "        values = np.unique(dataset[:, attribute])\n",
    "        for value in values:\n",
    "            gain = information_gain(dataset, attribute, value)\n",
    "            if gain > best_gain:\n",
    "                best_gain = gain\n",
    "                best_attribute = attribute\n",
    "                best_value = value\n",
    "    \n",
    "    return best_attribute, best_value"
   ]
  },
  {
   "cell_type": "code",
   "execution_count": 27,
   "id": "a0c9b538",
   "metadata": {},
   "outputs": [],
   "source": [
    "def decision_tree_learning(dataset, depth=5):\n",
    "    labels = dataset[:, -1]  # Last column is the label\n",
    "    \n",
    "    # Base case: if all labels are the same, return a leaf node\n",
    "    if len(np.unique(labels)) == 1:\n",
    "        return {'label': labels[0], 'depth': depth}\n",
    "    \n",
    "    # Otherwise, find the best split\n",
    "    attribute, value = find_split(dataset)\n",
    "    if attribute is None:\n",
    "        # If no split is possible, return a leaf with the majority label\n",
    "        unique, counts = np.unique(labels, return_counts=True)\n",
    "        majority_label = unique[np.argmax(counts)]\n",
    "        return {'label': majority_label, 'depth': depth}\n",
    "    \n",
    "    # Split the dataset\n",
    "    left_split = dataset[dataset[:, attribute] <= value]\n",
    "    right_split = dataset[dataset[:, attribute] > value]\n",
    "    \n",
    "    # Create a new decision node\n",
    "    tree = {\n",
    "        'attribute': attribute,\n",
    "        'value': value,\n",
    "        'depth': depth,\n",
    "        'left': decision_tree_learning(left_split, depth + 1),\n",
    "        'right': decision_tree_learning(right_split, depth + 1)\n",
    "    }\n",
    "    \n",
    "    return tree\n",
    "\n",
    "# Example: Load dataset and train a decision tree\n",
    "\n",
    "\n",
    "# Function to print the tree (for understanding)\n",
    "def print_tree(node, depth=0):\n",
    "    if 'label' in node:\n",
    "        print(f\"{'|   ' * depth}Leaf: {node['label']}\")\n",
    "    else:\n",
    "        print(f\"{'|   ' * depth}[X{node['attribute']} <= {node['value']}]\")\n",
    "        print_tree(node['left'], depth + 1)\n",
    "        print_tree(node['right'], depth + 1)\n"
   ]
  },
  {
   "cell_type": "code",
   "execution_count": 28,
   "id": "bcbc1a21",
   "metadata": {},
   "outputs": [
    {
     "name": "stdout",
     "output_type": "stream",
     "text": [
      "|   |   |   |   |   |   |   |   Leaf: 3.0\n"
     ]
    }
   ],
   "source": [
    "tree = decision_tree_learning(noisy_data,5)\n",
    "print_tree(tree,8)"
   ]
  },
  {
   "cell_type": "code",
   "execution_count": null,
   "id": "267993ee",
   "metadata": {},
   "outputs": [],
   "source": []
  },
  {
   "cell_type": "code",
   "execution_count": null,
   "id": "be77cd87",
   "metadata": {},
   "outputs": [],
   "source": []
  }
 ],
 "metadata": {
  "kernelspec": {
   "display_name": "Python 3 (ipykernel)",
   "language": "python",
   "name": "python3"
  },
  "language_info": {
   "codemirror_mode": {
    "name": "ipython",
    "version": 3
   },
   "file_extension": ".py",
   "mimetype": "text/x-python",
   "name": "python",
   "nbconvert_exporter": "python",
   "pygments_lexer": "ipython3",
   "version": "3.11.5"
  }
 },
 "nbformat": 4,
 "nbformat_minor": 5
}
